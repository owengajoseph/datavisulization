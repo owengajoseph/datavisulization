{
 "cells": [
  {
   "cell_type": "code",
   "execution_count": 1,
   "metadata": {},
   "outputs": [],
   "source": [
    "#! blockstart\n",
    "\n",
    "import random\n",
    "position=0\n",
    "walk=[position]\n",
    "nsteps=1000\n",
    "for _ in range(nsteps):\n",
    "    step =1 if random.randint(0,1)else -1\n",
    "    position+=step\n",
    "    walk.append(position)\n"
   ]
  }
 ],
 "metadata": {
  "kernelspec": {
   "display_name": "myvenv",
   "language": "python",
   "name": "python3"
  },
  "language_info": {
   "codemirror_mode": {
    "name": "ipython",
    "version": 3
   },
   "file_extension": ".py",
   "mimetype": "text/x-python",
   "name": "python",
   "nbconvert_exporter": "python",
   "pygments_lexer": "ipython3",
   "version": "3.10.12"
  }
 },
 "nbformat": 4,
 "nbformat_minor": 2
}
