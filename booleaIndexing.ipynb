{
 "cells": [
  {
   "cell_type": "code",
   "execution_count": 5,
   "metadata": {},
   "outputs": [
    {
     "data": {
      "text/plain": [
       "array(['Bob', 'Joe', 'Will', 'Bob', 'Will', 'Joe', 'Joe'], dtype='<U4')"
      ]
     },
     "execution_count": 5,
     "metadata": {},
     "output_type": "execute_result"
    }
   ],
   "source": [
    "import numpy as np\n",
    "\n",
    "names =np.array(['Bob','Joe','Will','Bob','Will','Joe','Joe'])\n",
    "\n",
    "data =np.random.randn(7,4)\n",
    "\n",
    "names\n"
   ]
  },
  {
   "cell_type": "code",
   "execution_count": 6,
   "metadata": {},
   "outputs": [
    {
     "data": {
      "text/plain": [
       "array([[ 0.87812399, -1.06454897, -1.20500914,  0.70734527],\n",
       "       [ 1.33623135, -1.20159293,  0.9469173 ,  1.78003062],\n",
       "       [-0.26989732, -2.06120794,  0.42701972, -0.71745625],\n",
       "       [-1.14599019,  0.42678228, -1.2243276 , -1.23643047],\n",
       "       [ 0.79324636,  1.96187477,  0.20297447, -1.00387291],\n",
       "       [ 0.34413366, -0.11388841,  0.25444258,  0.57535799],\n",
       "       [-1.20502365, -0.42120502,  0.67694261,  1.29579278]])"
      ]
     },
     "execution_count": 6,
     "metadata": {},
     "output_type": "execute_result"
    }
   ],
   "source": [
    "data\n"
   ]
  },
  {
   "cell_type": "code",
   "execution_count": 7,
   "metadata": {},
   "outputs": [
    {
     "data": {
      "text/plain": [
       "array([ True, False, False,  True, False, False, False])"
      ]
     },
     "execution_count": 7,
     "metadata": {},
     "output_type": "execute_result"
    }
   ],
   "source": [
    "names=='Bob'\n",
    "\n"
   ]
  },
  {
   "cell_type": "code",
   "execution_count": 8,
   "metadata": {},
   "outputs": [
    {
     "data": {
      "text/plain": [
       "array([[ 0.87812399, -1.06454897, -1.20500914,  0.70734527],\n",
       "       [-1.14599019,  0.42678228, -1.2243276 , -1.23643047]])"
      ]
     },
     "execution_count": 8,
     "metadata": {},
     "output_type": "execute_result"
    }
   ],
   "source": [
    "data[names=='Bob']\n"
   ]
  },
  {
   "cell_type": "code",
   "execution_count": 9,
   "metadata": {},
   "outputs": [
    {
     "data": {
      "text/plain": [
       "array([[-1.20500914,  0.70734527],\n",
       "       [-1.2243276 , -1.23643047]])"
      ]
     },
     "execution_count": 9,
     "metadata": {},
     "output_type": "execute_result"
    }
   ],
   "source": [
    "data[names=='Bob',2:]\n"
   ]
  },
  {
   "cell_type": "code",
   "execution_count": 10,
   "metadata": {},
   "outputs": [
    {
     "data": {
      "text/plain": [
       "array([ 0.70734527, -1.23643047])"
      ]
     },
     "execution_count": 10,
     "metadata": {},
     "output_type": "execute_result"
    }
   ],
   "source": [
    "data[names=='Bob',3]\n"
   ]
  },
  {
   "cell_type": "code",
   "execution_count": 11,
   "metadata": {},
   "outputs": [
    {
     "data": {
      "text/plain": [
       "array([False,  True,  True, False,  True,  True,  True])"
      ]
     },
     "execution_count": 11,
     "metadata": {},
     "output_type": "execute_result"
    }
   ],
   "source": [
    "names!='Bob'\n"
   ]
  },
  {
   "cell_type": "code",
   "execution_count": 12,
   "metadata": {},
   "outputs": [
    {
     "data": {
      "text/plain": [
       "array([False,  True,  True, False,  True,  True,  True])"
      ]
     },
     "execution_count": 12,
     "metadata": {},
     "output_type": "execute_result"
    }
   ],
   "source": [
    "~(names=='Bob')\n"
   ]
  },
  {
   "cell_type": "code",
   "execution_count": 13,
   "metadata": {},
   "outputs": [
    {
     "data": {
      "text/plain": [
       "array([[ 1.33623135, -1.20159293,  0.9469173 ,  1.78003062],\n",
       "       [-0.26989732, -2.06120794,  0.42701972, -0.71745625],\n",
       "       [ 0.79324636,  1.96187477,  0.20297447, -1.00387291],\n",
       "       [ 0.34413366, -0.11388841,  0.25444258,  0.57535799],\n",
       "       [-1.20502365, -0.42120502,  0.67694261,  1.29579278]])"
      ]
     },
     "execution_count": 13,
     "metadata": {},
     "output_type": "execute_result"
    }
   ],
   "source": [
    "data[~(names=='Bob')]\n",
    "#had issue here need fixes\n",
    "#supposed to print everythig else except the \"Bob \" rows\n"
   ]
  },
  {
   "cell_type": "code",
   "execution_count": 14,
   "metadata": {},
   "outputs": [
    {
     "name": "stdout",
     "output_type": "stream",
     "text": [
      "[[ 0.87812399 -1.06454897 -1.20500914  0.70734527]\n",
      " [ 1.33623135 -1.20159293  0.9469173   1.78003062]\n",
      " [-0.26989732 -2.06120794  0.42701972 -0.71745625]\n",
      " [-1.14599019  0.42678228 -1.2243276  -1.23643047]\n",
      " [ 0.79324636  1.96187477  0.20297447 -1.00387291]\n",
      " [ 0.34413366 -0.11388841  0.25444258  0.57535799]\n",
      " [-1.20502365 -0.42120502  0.67694261  1.29579278]]\n"
     ]
    }
   ],
   "source": [
    "cond=names==True\n",
    "print(data[~cond])\n",
    "\n",
    "#somehow notworking for me but seems like a good idea\n"
   ]
  },
  {
   "cell_type": "code",
   "execution_count": 15,
   "metadata": {},
   "outputs": [],
   "source": [
    "\n",
    "#need more reserch\n",
    "data[data<0]=0\n"
   ]
  }
 ],
 "metadata": {
  "kernelspec": {
   "display_name": "myvenv",
   "language": "python",
   "name": "python3"
  },
  "language_info": {
   "codemirror_mode": {
    "name": "ipython",
    "version": 3
   },
   "file_extension": ".py",
   "mimetype": "text/x-python",
   "name": "python",
   "nbconvert_exporter": "python",
   "pygments_lexer": "ipython3",
   "version": "3.10.12"
  }
 },
 "nbformat": 4,
 "nbformat_minor": 2
}
