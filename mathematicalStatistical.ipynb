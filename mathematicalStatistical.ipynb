{
 "cells": [
  {
   "cell_type": "code",
   "execution_count": 14,
   "metadata": {},
   "outputs": [
    {
     "data": {
      "text/plain": [
       "array([[ 0.61204293,  0.94331309,  2.06589263,  1.78547986],\n",
       "       [ 0.04190858, -0.11169931,  0.18042574, -0.10490247],\n",
       "       [-0.46773989,  0.89286636, -0.99705208,  1.57489859],\n",
       "       [-0.60883501, -0.68359476, -1.42633515,  0.18680078],\n",
       "       [-0.65513988, -1.15258161, -0.28162184,  0.13681044]])"
      ]
     },
     "execution_count": 14,
     "metadata": {},
     "output_type": "execute_result"
    }
   ],
   "source": [
    "import numpy as np\n",
    "rng = np.random.default_rng()\n",
    "arr=rng.standard_normal((5,4))\n",
    "arr"
   ]
  },
  {
   "cell_type": "code",
   "execution_count": 18,
   "metadata": {},
   "outputs": [
    {
     "name": "stdout",
     "output_type": "stream",
     "text": [
      "0.09654685000853801\n",
      "0.09654685000853801\n",
      "[ 1.35168213  0.00143314  0.25074325 -0.63299104 -0.48813322]\n",
      "[-1.07776326 -0.11169623 -0.4586907   3.57908719]\n"
     ]
    }
   ],
   "source": [
    "print(arr.mean())\n",
    "print(np.mean(arr))\n",
    "arr.sum()\n",
    "\n",
    "#here arr.mean(axis=1 )means COMPUTE MEAN ACROSS COLUMNS\n",
    "#AND arr.sum(axis=0)means COMPUTE SUM DOWN THE ROWS\n",
    "print(arr.mean(axis=1))\n",
    "print (arr.sum(axis=0))\n"
   ]
  },
  {
   "cell_type": "code",
   "execution_count": 20,
   "metadata": {},
   "outputs": [
    {
     "data": {
      "text/plain": [
       "array([ 0,  1,  3,  6, 10, 15, 21, 28])"
      ]
     },
     "execution_count": 20,
     "metadata": {},
     "output_type": "execute_result"
    }
   ],
   "source": [
    "arr=np.array([0,1,2,3,4,5,6,7])\n",
    "arr.cumsum()"
   ]
  },
  {
   "cell_type": "code",
   "execution_count": null,
   "metadata": {},
   "outputs": [],
   "source": [
    "arr=np.array([[0,1,2],[3,4,5],[6,7,8]])"
   ]
  }
 ],
 "metadata": {
  "kernelspec": {
   "display_name": "myvenv",
   "language": "python",
   "name": "python3"
  },
  "language_info": {
   "codemirror_mode": {
    "name": "ipython",
    "version": 3
   },
   "file_extension": ".py",
   "mimetype": "text/x-python",
   "name": "python",
   "nbconvert_exporter": "python",
   "pygments_lexer": "ipython3",
   "version": "3.10.12"
  }
 },
 "nbformat": 4,
 "nbformat_minor": 2
}
