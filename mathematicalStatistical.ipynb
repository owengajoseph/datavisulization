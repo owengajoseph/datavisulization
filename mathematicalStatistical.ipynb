{
 "cells": [
  {
   "cell_type": "code",
   "execution_count": 5,
   "metadata": {},
   "outputs": [
    {
     "data": {
      "text/plain": [
       "array([[ 1.118491  , -0.59601693,  1.42767294, -0.30769892],\n",
       "       [-0.20052601,  0.05828972, -0.01895993,  1.02330017],\n",
       "       [ 0.4021533 , -0.63409345, -1.26372905,  1.07977945],\n",
       "       [ 0.11761854, -0.17042764, -0.87227816, -2.1456426 ],\n",
       "       [-1.78556033, -0.48916178, -0.73786597,  0.23781693]])"
      ]
     },
     "execution_count": 5,
     "metadata": {},
     "output_type": "execute_result"
    }
   ],
   "source": [
    "import numpy as np\n",
    "rng = np.random.default_rng()\n",
    "arr=rng.standard_normal((5,4))\n",
    "arr"
   ]
  },
  {
   "cell_type": "code",
   "execution_count": 6,
   "metadata": {},
   "outputs": [
    {
     "name": "stdout",
     "output_type": "stream",
     "text": [
      "-0.18784193555014955\n",
      "-0.18784193555014955\n",
      "[ 0.41061203  0.21552599 -0.10397244 -0.76768246 -0.69369279]\n",
      "[-0.34782349 -1.83141008 -1.46516016 -0.11244497]\n"
     ]
    }
   ],
   "source": [
    "print(arr.mean())\n",
    "print(np.mean(arr))\n",
    "arr.sum()\n",
    "\n",
    "#here arr.mean(axis=1 )means COMPUTE MEAN ACROSS COLUMNS\n",
    "#AND arr.sum(axis=0)means COMPUTE SUM DOWN THE ROWS\n",
    "print(arr.mean(axis=1))\n",
    "print (arr.sum(axis=0))\n"
   ]
  },
  {
   "cell_type": "code",
   "execution_count": 7,
   "metadata": {},
   "outputs": [
    {
     "data": {
      "text/plain": [
       "array([ 0,  1,  3,  6, 10, 15, 21, 28])"
      ]
     },
     "execution_count": 7,
     "metadata": {},
     "output_type": "execute_result"
    }
   ],
   "source": [
    "arr=np.array([0,1,2,3,4,5,6,7])\n",
    "arr.cumsum()"
   ]
  },
  {
   "cell_type": "code",
   "execution_count": 8,
   "metadata": {},
   "outputs": [],
   "source": [
    "arr=np.array([[0,1,2],[3,4,5],[6,7,8]])"
   ]
  }
 ],
 "metadata": {
  "kernelspec": {
   "display_name": ".myenv",
   "language": "python",
   "name": "python3"
  },
  "language_info": {
   "codemirror_mode": {
    "name": "ipython",
    "version": 3
   },
   "file_extension": ".py",
   "mimetype": "text/x-python",
   "name": "python",
   "nbconvert_exporter": "python",
   "pygments_lexer": "ipython3",
   "version": "3.12.3"
  }
 },
 "nbformat": 4,
 "nbformat_minor": 2
}
